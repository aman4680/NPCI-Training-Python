# Declaring global variables and importing packages
from typing import List, Dict
import operator

words_to_page = {}  # key is the distinct word and the value will be the list of all the pages in which that word is present
pagename_to_objects = {}  # key will be the name of the page and value will be the object of that page
query_objects_list = [] # list containing the query objects

class Base:
    def __init__(self, idx: int, string_of_words: str):
        self.index = idx
        self.list_of_words = string_of_words.split(" ")
        self.words_weight = dict()
        for i in range(0, len(self.list_of_words)):
            self.words_weight[self.list_of_words[i]] = 8 - i

    def get_words_list(self):
        return self.list_of_words

    def get_words_weight(self) -> Dict:
        return self.words_weight

class Page(Base):
    def __init__(self, page_idx: int, string_of_page_words: str):
        super().__init__(page_idx, string_of_page_words)
        for word in self.list_of_words:
            if word in words_to_page:
                words_to_page[word].append(self.get_pagename())
            else:
                words_to_page[word] = [self.get_pagename()]

    def get_pagename(self) -> str:
        return "P" + str(self.index)

class Query(Base):
    def __init__(self, query_idx: int, string_of_query_words: str):
        super().__init__(query_idx, string_of_query_words)

    def get_queryname(self) -> str:
        return "Q" + str(self.index)

    def __repr__(self):
        return f"{self.get_queryname(), self.get_words_list(), self.get_words_weight()}"

def clean_data(lst_of_strings: List[str]) -> List[str]:
    return [(' '.join(data.strip("\n").split())).lower() for data in lst_of_strings]

def get_sorted_dict(almost_final_dict):
    sorted_tuples = sorted(almost_final_dict.items(), key=operator.itemgetter(1), reverse=True)
    final_dict = {k: v for k, v in sorted_tuples}
    return final_dict

def find_strength_relationship() -> Dict[str, Dict[str, int]]:
    queryobj_to_dict_of_page_and_strength = dict()
    for query_obj in query_objects_list:
        visited_pages = list()
        page_to_strength_dict = dict()        
        for word in query_obj.get_words_list():
            if word in words_to_page:
                for page in words_to_page[word]:
                    if page not in visited_pages:
                        visited_pages.append(page)
                        strength_of_query = compute_strength(query_obj,pagename_to_objects[page])
                        page_to_strength_dict[page] = strength_of_query
        queryobj_to_dict_of_page_and_strength[query_obj.get_queryname()] = get_sorted_dict(page_to_strength_dict)  # {Q1: {P1: 113, P2: 56}, Q2: {}}
    return queryobj_to_dict_of_page_and_strength


def format_result_upto_5_values(dictionary: Dict[str, Dict[str, int]]) -> str:
    final_result = ""
    for key, value in dictionary.items():
        final_result += key + ": " + ' '.join(list(value.keys())[:5]) + "\n"
    return final_result

def compute_strength(q_obj: Query, p_obj: Page) -> int:
    sum_of_products = 0
    for qword in q_obj.get_words_list():
        if qword in p_obj.get_words_list():
            sum_of_products = sum_of_products + q_obj.get_words_weight()[qword] * p_obj.get_words_weight()[qword]
    return sum_of_products

def readfile(file: str) -> List[str]:
    file_ptr = open(file, "r")
    data_strings = file_ptr.readlines()
    print(data_strings)
    return data_strings

def page_selection_relevence(filename: str) -> str:
    data_from_file = readfile(filename)
    cleaned_strings = clean_data(data_from_file)
    #print(cleaned_strings)
    store_data_into_objects(cleaned_strings)
    search_success = find_strength_relationship()
    result = format_result_upto_5_values(search_success)
    return result

def store_data_into_objects(data: List[str]) -> None:
    page_index, query_index = 0, 0
    for text in data:
        if text[0:1] is "p":
            page_index += 1
            p = Page(page_index, text[2:])        
            pagename_to_objects[p.get_pagename()] = p  
        elif text[0:1] is "q":
            query_index += 1
            q = Query(query_index, text[2:])
            query_objects_list.append(q)



print(page_selection_relevence("input.txt"))

